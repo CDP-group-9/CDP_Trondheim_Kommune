{
 "cells": [
  {
   "cell_type": "markdown",
   "id": "512dfb0e",
   "metadata": {},
   "source": [
    "# KA Sandbox"
   ]
  },
  {
   "cell_type": "markdown",
   "id": "014aff20",
   "metadata": {},
   "source": [
    "### 11.1 Setup llm\n",
    "Goal: Successful requests and responses to and from gemini\n",
    "\n",
    "**Progress:**\n",
    "\n",
    "- [x] Find a free version of api for testing\n",
    "    - [x] Know what kind of access we need from TRK\n",
    "- [x] Send request to gemini\n",
    "- [x] Get response from gemini\n",
    "\n",
    "### 11.3 Modify llm\n",
    "Goal: Successful requests and responses with extended context to and from gemini\n",
    "\n",
    "**Progress:**\n",
    "- [x] Send context request to gemini\n",
    "- [x] Get response using context from gemini\n",
    "- [x] Try out stream version of gemini"
   ]
  },
  {
   "cell_type": "markdown",
   "id": "156efa81",
   "metadata": {},
   "source": [
    "### Consider two options for combining gemini and lovdata\n",
    "#### 1. Retrive relevant laws from lovdata, then give as context to gemini\n",
    "\n",
    "#### 2. Define a lovdata tool and give it to gemini to use when gemini deems it necessary"
   ]
  },
  {
   "cell_type": "code",
   "execution_count": 31,
   "id": "a87cfd78",
   "metadata": {},
   "outputs": [],
   "source": [
    "# General setup\n",
    "import os\n",
    "from google import genai\n",
    "from dotenv import load_dotenv\n",
    "\n",
    "load_dotenv(dotenv_path=\"../backend/.env\")  # take environment variables from .env.\n",
    "\n",
    "client = genai.Client(api_key=os.getenv(\"GEMINI_API_KEY\"))"
   ]
  },
  {
   "cell_type": "code",
   "execution_count": 33,
   "id": "7d339f48",
   "metadata": {},
   "outputs": [
    {
     "name": "stdout",
     "output_type": "stream",
     "text": [
      "AI learns patterns from data to make predictions or decisions.\n"
     ]
    }
   ],
   "source": [
    "# Simple test of responses\n",
    "\n",
    "response = client.models.generate_content(\n",
    "    model=\"gemini-2.5-flash\",\n",
    "    contents=\"Explain how AI works in a few words\",\n",
    ")\n",
    "\n",
    "print(response.text)"
   ]
  },
  {
   "cell_type": "code",
   "execution_count": 25,
   "id": "e392c4d2",
   "metadata": {},
   "outputs": [],
   "source": [
    "from google.genai import types\n",
    "from pydantic import BaseModel\n",
    "\n",
    "class Dasq(BaseModel):\n",
    "    recipe_name: str\n",
    "    ingredients: list[str]\n",
    "\n",
    "response = client.models.generate_content(\n",
    "  model='gemini-2.5-flash',\n",
    "  contents='List a few popular cookie recipes, and include the amounts of ingredients.',\n",
    "  config=types.GenerateContentConfig(\n",
    "      response_mime_type= 'application/json',\n",
    "      response_schema= list[Dasq],\n",
    "      seed=42,\n",
    "  ),\n",
    ")"
   ]
  },
  {
   "cell_type": "code",
   "execution_count": 26,
   "id": "731b828a",
   "metadata": {},
   "outputs": [
    {
     "name": "stdout",
     "output_type": "stream",
     "text": [
      "[\n",
      "  {\n",
      "    \"recipe_name\": \"Classic Chocolate Chip Cookies\",\n",
      "    \"ingredients\": [\n",
      "      \"2 1/4 cups all-purpose flour\",\n",
      "      \"1 teaspoon baking soda\",\n",
      "      \"1 teaspoon salt\",\n",
      "      \"1 cup (2 sticks) unsalted butter, softened\",\n",
      "      \"3/4 cup granulated sugar\",\n",
      "      \"3/4 cup packed brown sugar\",\n",
      "      \"1 teaspoon vanilla extract\",\n",
      "      \"2 large eggs\",\n",
      "      \"2 cups (12 ounces) semi-sweet chocolate chips\"\n",
      "    ]\n",
      "  },\n",
      "  {\n",
      "    \"recipe_name\": \"Simple Sugar Cookies\",\n",
      "    \"ingredients\": [\n",
      "      \"3 cups all-purpose flour\",\n",
      "      \"1 teaspoon baking powder\",\n",
      "      \"1/2 teaspoon salt\",\n",
      "      \"1 cup (2 sticks) unsalted butter, softened\",\n",
      "      \"1 1/2 cups granulated sugar\",\n",
      "      \"1 large egg\",\n",
      "      \"1 teaspoon vanilla extract\"\n",
      "    ]\n",
      "  },\n",
      "  {\n",
      "    \"recipe_name\": \"Chewy Oatmeal Raisin Cookies\",\n",
      "    \"ingredients\": [\n",
      "      \"1 1/2 cups all-purpose flour\",\n",
      "      \"1 teaspoon baking soda\",\n",
      "      \"1 teaspoon ground cinnamon\",\n",
      "      \"1/2 teaspoon salt\",\n",
      "      \"1 cup (2 sticks) unsalted butter, softened\",\n",
      "      \"1 cup packed light brown sugar\",\n",
      "      \"1/2 cup granulated sugar\",\n",
      "      \"2 large eggs\",\n",
      "      \"1 teaspoon vanilla extract\",\n",
      "      \"3 cups old-fashioned rolled oats\",\n",
      "      \"1 1/2 cups raisins\"\n",
      "    ]\n",
      "  }\n",
      "]\n"
     ]
    }
   ],
   "source": [
    "# Use the response as a JSON string.\n",
    "print(response.text)\n",
    "\n",
    "# Use instantiated objects.\n",
    "my_recipes: list[Dasq] = response.parsed"
   ]
  },
  {
   "cell_type": "code",
   "execution_count": 27,
   "id": "51248855",
   "metadata": {},
   "outputs": [],
   "source": [
    "article_6 = \"\"\"Processing shall be lawful only if and to the extent that at least one of the following applies:\n",
    "the data subject has given consent to the processing of his or her personal data for one or more specific purposes;\n",
    "processing is necessary for the performance of a contract to which the data subject is party or in order to take steps at the request of the data subject prior to entering into a contract;\n",
    "processing is necessary for compliance with a legal obligation to which the controller is subject;\n",
    "processing is necessary in order to protect the vital interests of the data subject or of another natural person;\n",
    "processing is necessary for the performance of a task carried out in the public interest or in the exercise of official authority vested in the controller;\n",
    "processing is necessary for the purposes of the legitimate interests pursued by the controller or by a third party, except where such interests are overridden by the interests or fundamental rights and freedoms of the data subject which require protection of personal data, in particular where the data subject is a child.\n",
    "Point (f) of the first subparagraph shall not apply to processing carried out by public authorities in the performance of their tasks.\n",
    "\n",
    "Member States may maintain or introduce more specific provisions to adapt the application of the rules of this Regulation with regard to processing for compliance with points (c) and (e) of paragraph 1 by determining more precisely specific requirements for the processing and other measures to ensure lawful and fair processing including for other specific processing situations as provided for in Chapter IX.\n",
    "1The basis for the processing referred to in point (c) and (e) of paragraph 1 shall be laid down by:\n",
    "Union law; or\n",
    "Member State law to which the controller is subject.\n",
    "2The purpose of the processing shall be determined in that legal basis or, as regards the processing referred to in point (e) of paragraph 1, shall be necessary for the performance of a task carried out in the public interest or in the exercise of official authority vested in the controller. 3That legal basis may contain specific provisions to adapt the application of rules of this Regulation, inter alia: the general conditions governing the lawfulness of processing by the controller; the types of data which are subject to the processing; the data subjects concerned; the entities to, and the purposes for which, the personal data may be disclosed; the purpose limitation; storage periods; and processing operations and processing procedures, including measures to ensure lawful and fair processing such as those for other specific processing situations as provided for in Chapter IX. 4The Union or the Member State law shall meet an objective of public interest and be proportionate to the legitimate aim pursued.\n",
    "\n",
    "Where the processing for a purpose other than that for which the personal data have been collected is not based on the data subject’s consent or on a Union or Member State law which constitutes a necessary and proportionate measure in a democratic society to safeguard the objectives referred to in Article 23(1), the controller shall, in order to ascertain whether processing for another purpose is compatible with the purpose for which the personal data are initially collected, take into account, inter alia:\n",
    "any link between the purposes for which the personal data have been collected and the purposes of the intended further processing;\n",
    "the context in which the personal data have been collected, in particular regarding the relationship between data subjects and the controller;\n",
    "the nature of the personal data, in particular whether special categories of personal data are processed, pursuant to Article 9, or whether personal data related to criminal convictions and offences are processed, pursuant to Article 10;\n",
    "the possible consequences of the intended further processing for data subjects;\n",
    "the existence of appropriate safeguards, which may include encryption or pseudonymisation.\"\"\""
   ]
  },
  {
   "cell_type": "code",
   "execution_count": 28,
   "id": "416a3ba0",
   "metadata": {},
   "outputs": [],
   "source": [
    "context_text = article_6\n",
    "user_question = \"Can I use personal data collected for a contract to also send marketing emails?\"\n",
    "\n",
    "prompt = f\"\"\"\n",
    "You are a legal assistant. Use the following law excerpts to answer the question:\n",
    "\n",
    "Laws:\n",
    "{context_text}\n",
    "\n",
    "Question: {user_question}\n",
    "\n",
    "Answer with citations from the provided laws only.\n",
    "\"\"\""
   ]
  },
  {
   "cell_type": "code",
   "execution_count": 41,
   "id": "a92f08d9",
   "metadata": {},
   "outputs": [
    {
     "name": "stdout",
     "output_type": "stream",
     "text": [
      "Yes, if the data subject has given consent to the processing of their personal data for marketing purposes. (Processing shall be lawful only if... the data subject has given consent...)\n",
      "\n",
      "Alternatively, processing for a purpose other than that for which the data was collected is permissible if based on a Union or Member State law. (Where the processing for a purpose other than that for which the personal data have been collected is not based on the data subject’s consent or on a Union or Member State law...)\n",
      "\n",
      "If neither of these applies, the controller must assess whether processing for marketing is compatible with the original purpose of contract performance. (the controller shall, in order to ascertain whether processing for another purpose is compatible with the purpose for which the personal data are initially collected, take into account, inter alia:...)\n",
      "\n",
      "This assessment involves considering factors such as any link between the purposes, the context of data collection, the nature of the personal data, and possible consequences for data subjects.\n"
     ]
    }
   ],
   "source": [
    "response = client.models.generate_content(\n",
    "    model=\"gemini-2.5-flash\",\n",
    "    contents=prompt,\n",
    "    config=types.GenerateContentConfig(\n",
    "      system_instruction='You are a legal assistant. Use the provided laws to answer the question in up to 5 short sentences. If the laws do not provide an answer, respond with \"I do not know\".',\n",
    "      response_mime_type= 'text/plain',\n",
    "      seed=42,\n",
    "  ),\n",
    ")\n",
    "\n",
    "print(response.text)"
   ]
  },
  {
   "cell_type": "code",
   "execution_count": 47,
   "id": "99939d61",
   "metadata": {},
   "outputs": [
    {
     "name": "stdout",
     "output_type": "stream",
     "text": [
      "Using personal data collected for a contract to send marketing emails constitutes processing for a purpose other than that for which the personal data was initially collected. Such further processing is permissible only if it is based on the data subject’s consent or on a Union or Member\n",
      "HI\n",
      " State law. If neither of these conditions applies, the controller must ascertain whether processing for the marketing purpose is compatible with the purpose for which the personal data was initially collected. To do this, the controller must take into account factors such as any\n",
      "HI\n",
      " link between the purposes, the context of data collection, the nature of the personal data, and the possible consequences for data subjects. The law does not provide a direct \"yes\" or \"no\" answer, but rather a framework for evaluating\n",
      "HI\n",
      " the lawfulness and compatibility of such further processing.\n",
      "HI\n",
      "Using personal data collected for a contract to send marketing emails constitutes processing for a purpose other than that for which the personal data was initially collected. Such further processing is permissible only if it is based on the data subject’s consent or on a Union or Member State law. If neither of these conditions applies, the controller must ascertain whether processing for the marketing purpose is compatible with the purpose for which the personal data was initially collected. To do this, the controller must take into account factors such as any link between the purposes, the context of data collection, the nature of the personal data, and the possible consequences for data subjects. The law does not provide a direct \"yes\" or \"no\" answer, but rather a framework for evaluating the lawfulness and compatibility of such further processing.\n"
     ]
    }
   ],
   "source": [
    "response_stream = client.models.generate_content_stream(\n",
    "    model=\"gemini-2.5-flash\",\n",
    "    contents=prompt,\n",
    "    config=types.GenerateContentConfig(\n",
    "        system_instruction='You are a legal assistant. Use the provided laws to answer the question in up to 5 sentences. If the laws do not provide an answer, respond with \"I do not know\".',\n",
    "        response_mime_type= 'text/plain',\n",
    "        seed=42,\n",
    "    ),\n",
    ")\n",
    "\n",
    "full_response = \"\"\n",
    "for chunk in response_stream:\n",
    "    print(chunk.text)\n",
    "    print(\"HI\")\n",
    "    full_response += chunk.text\n",
    "\n",
    "print(full_response)"
   ]
  },
  {
   "cell_type": "code",
   "execution_count": null,
   "id": "f864afa0",
   "metadata": {},
   "outputs": [],
   "source": [
    "full_response = \"\"\n",
    "for chunk in response_stream:\n",
    "    print(chunk.text)\n",
    "    print(\"HI\")\n",
    "    full_response += chunk.text\n",
    "\n",
    "print(full_response)"
   ]
  }
 ],
 "metadata": {
  "kernelspec": {
   "display_name": "testAI",
   "language": "python",
   "name": "python3"
  },
  "language_info": {
   "codemirror_mode": {
    "name": "ipython",
    "version": 3
   },
   "file_extension": ".py",
   "mimetype": "text/x-python",
   "name": "python",
   "nbconvert_exporter": "python",
   "pygments_lexer": "ipython3",
   "version": "3.12.11"
  }
 },
 "nbformat": 4,
 "nbformat_minor": 5
}
